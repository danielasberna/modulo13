{
  "nbformat": 4,
  "nbformat_minor": 0,
  "metadata": {
    "colab": {
      "provenance": [],
      "authorship_tag": "ABX9TyPRCgJ5+WUvu/VqNPRRZGvH",
      "include_colab_link": true
    },
    "kernelspec": {
      "name": "python3",
      "display_name": "Python 3"
    },
    "language_info": {
      "name": "python"
    }
  },
  "cells": [
    {
      "cell_type": "markdown",
      "metadata": {
        "id": "view-in-github",
        "colab_type": "text"
      },
      "source": [
        "<a href=\"https://colab.research.google.com/github/danielasberna/modulo13/blob/main/analise.ipynb\" target=\"_parent\"><img src=\"https://colab.research.google.com/assets/colab-badge.svg\" alt=\"Open In Colab\"/></a>"
      ]
    },
    {
      "cell_type": "code",
      "execution_count": null,
      "metadata": {
        "id": "61HcyiRMA5e7"
      },
      "outputs": [],
      "source": [
        "\n",
        "import pandas as pd\n",
        "import matplotlib.pyplot as plt\n",
        "import seaborn as sns\n",
        "\n",
        "\n",
        "sns.set(style=\"whitegrid\")\n",
        "\n",
        "# Carregar os dados\n",
        "df = pd.read_csv(\"MODULO7_PROJETOFINAL_BASE_SUPERMERCADO - MODULO7_PROJETOFINAL_BASE_SUPERMERCADO (1).csv.csv\")\n",
        "\n",
        "\n",
        "# EXERCÍCIO 1: Média e Mediana por Categoria\n",
        "\n",
        "\n",
        "# Calcular média do Preco_Normal por categoria\n",
        "resumo_media = df.groupby('Categoria')['Preco_Normal'].mean().reset_index()\n",
        "resumo_media.columns = ['Categoria', 'Media_Preco_Normal']\n",
        "\n",
        "# Calcular mediana do Preco_Normal por categoria\n",
        "resumo_mediana = df.groupby('Categoria')['Preco_Normal'].median().reset_index()\n",
        "resumo_mediana.columns = ['Categoria', 'Mediana_Preco_Normal']\n",
        "\n",
        "# Unir as duas tabelas\n",
        "resumo = pd.merge(resumo_media, resumo_mediana, on='Categoria')\n",
        "\n",
        "\n",
        "print(\"=== Média e Mediana do Preço Normal por Categoria ===\")\n",
        "print(resumo)\n",
        "\n",
        "# Identificar categorias com média acima da mediana\n",
        "categorias_acima = resumo[resumo['Media_Preco_Normal'] > resumo['Mediana_Preco_Normal']]\n",
        "print(\"\\nCategorias com média acima da mediana:\")\n",
        "print(categorias_acima['Categoria'].tolist())\n",
        "\n",
        "\n",
        "# EXERCÍCIO 2: Desvio Padrão + Boxplot + Outliers\n",
        "\n",
        "\n",
        "# Calcular desvio padrão do Preco_Normal por categoria\n",
        "desvio_preco = df.groupby('Categoria')['Preco_Normal'].std().reset_index()\n",
        "desvio_preco.columns = ['Categoria', 'Desvio_Padrao_Preco_Normal']\n",
        "\n",
        "# Mostrar categoria com maior variação\n",
        "maior_variacao = desvio_preco.sort_values(by='Desvio_Padrao_Preco_Normal', ascending=False)\n",
        "print(\"\\n=== Desvio Padrão por Categoria ===\")\n",
        "print(desvio_preco)\n",
        "\n",
        "print(\"\\nCategoria com maior variação de preço:\")\n",
        "print(maior_variacao.head(1))\n",
        "\n",
        "# Boxplot para visualizar a distribuição e outliers\n",
        "plt.figure(figsize=(12, 6))\n",
        "sns.boxplot(data=df, x='Categoria', y='Preco_Normal')\n",
        "plt.title(\"Distribuição dos Preços Normais por Categoria (Boxplot)\")\n",
        "plt.xticks(rotation=45)\n",
        "plt.tight_layout()\n",
        "plt.show()\n",
        "\n",
        "\n",
        "# EXERCÍCIO 3: Total de Desconto por Categoria\n",
        "\n",
        "\n",
        "# Calcular total de desconto por categoria\n",
        "descontos_categoria = df.groupby('Categoria')['Desconto'].sum().reset_index()\n",
        "\n",
        "# Gráfico de barras - Total de desconto\n",
        "plt.figure(figsize=(10, 6))\n",
        "sns.barplot(data=descontos_categoria, x='Categoria', y='Desconto')\n",
        "plt.title(\"Total de Desconto por Categoria\")\n",
        "plt.xticks(rotation=45)\n",
        "plt.tight_layout()\n",
        "plt.show()\n",
        "\n",
        "\n",
        "# EXERCÍCIO 4: Média de Desconto por Categoria\n",
        "\n",
        "# Calcular média de desconto por categoria\n",
        "media_descontos = df.groupby('Categoria')['Desconto'].mean().reset_index()\n",
        "\n",
        "# Gráfico de barras - Média de desconto\n",
        "plt.figure(figsize=(10, 6))\n",
        "sns.barplot(data=media_descontos, x='Categoria', y='Desconto')\n",
        "plt.title(\"Média de Desconto por Categoria\")\n",
        "plt.xticks(rotation=45)\n",
        "plt.tight_layout()\n",
        "plt.show()\n"
      ]
    }
  ]
}