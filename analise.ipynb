{
  "nbformat": 4,
  "nbformat_minor": 0,
  "metadata": {
    "colab": {
      "provenance": [],
      "authorship_tag": "ABX9TyMqfg7Qq7GPAdrJhtMtI6UX",
      "include_colab_link": true
    },
    "kernelspec": {
      "name": "python3",
      "display_name": "Python 3"
    },
    "language_info": {
      "name": "python"
    }
  },
  "cells": [
    {
      "cell_type": "markdown",
      "metadata": {
        "id": "view-in-github",
        "colab_type": "text"
      },
      "source": [
        "<a href=\"https://colab.research.google.com/github/danielasberna/modulo13/blob/main/analise.ipynb\" target=\"_parent\"><img src=\"https://colab.research.google.com/assets/colab-badge.svg\" alt=\"Open In Colab\"/></a>"
      ]
    },
    {
      "cell_type": "code",
      "execution_count": null,
      "metadata": {
        "id": "61HcyiRMA5e7"
      },
      "outputs": [],
      "source": [
        "# Importar bibliotecas necessárias\n",
        "import pandas as pd\n",
        "import plotly.express as px\n",
        "\n",
        "# Carregar o arquivo CSV\n",
        "df = pd.read_csv(\"MODULO7_PROJETOFINAL_BASE_SUPERMERCADO - MODULO7_PROJETOFINAL_BASE_SUPERMERCADO (1).csv.csv\")\n",
        "\n",
        "# Selecionar colunas numéricas para análise\n",
        "numeric_cols = ['Preco_Normal', 'Preco_Desconto', 'Preco_Anterior', 'Desconto']\n",
        "\n",
        "# Calcular estatísticas descritivas\n",
        "stats = df[numeric_cols].describe().T[['mean', '50%', 'std', 'min', 'max']]\n",
        "stats.rename(columns={'50%': 'median'}, inplace=True)\n",
        "stats_result = stats.reset_index().rename(columns={'index': 'Métrica'})\n",
        "\n",
        "# Visualização interativa\n",
        "fig = px.bar(\n",
        "    stats_result.melt(id_vars='Métrica', var_name='Estatística', value_name='Valor'),\n",
        "    x='Métrica',\n",
        "    y='Valor',\n",
        "    color='Estatística',\n",
        "    barmode='group',\n",
        "    title='Estatísticas Descritivas dos Preços e Descontos'\n",
        ")\n",
        "\n",
        "fig.show()\n"
      ]
    }
  ]
}